{
 "cells": [
  {
   "cell_type": "markdown",
   "metadata": {},
   "source": [
    "**Seattle Airbnb Data Analysis**\n",
    "\n",
    "As part of the Udacity data science nanodegree course, I have to analyse the Airbnb Seattle dataset for 2016 following the CRISP-DM process.\n",
    "\n",
    "1. Business Understanding:\n",
    "Some of the questions I am anwering over here:\n",
    "\n",
    "1. Which listings are charging the highest price?\n",
    "2. What is the average monthly price charged?\n",
    "3. How much time does the host take to respond?\n",
    "4. Which are the popular neighbourhoods?\n",
    "5. Which are the most expensive and cheapest neighbourhoods in Seattle?\n",
    "6. What review ratings affect the customer?\n",
    "7. Does avaialbility of certain amenities fetch a higher price?"
   ]
  },
  {
   "cell_type": "markdown",
   "metadata": {},
   "source": [
    "**Data Understanding**:\n",
    "\n",
    "Collecting, wrangling and exploring the data"
   ]
  },
  {
   "cell_type": "code",
   "execution_count": 4,
   "metadata": {},
   "outputs": [],
   "source": [
    "###importing the required packages\n",
    "\n",
    "import numpy as np\n",
    "import pandas as pd\n",
    "import matplotlib.pyplot as plt\n",
    "from IPython import display\n",
    "from zipfile import ZipFile\n",
    "%matplotlib inline"
   ]
  },
  {
   "cell_type": "code",
   "execution_count": 5,
   "metadata": {},
   "outputs": [],
   "source": [
    "#extracting the zipfile\n",
    "with ZipFile('seattle_new.zip', 'r') as zipObj:\n",
    "   # Extract all the contents of zip file in current directory\n",
    "   zipObj.extractall()"
   ]
  },
  {
   "cell_type": "code",
   "execution_count": 6,
   "metadata": {},
   "outputs": [],
   "source": [
    "###Read the files\n",
    "\n",
    "df_cal=pd.read_csv('calendar.csv')\n",
    "df_listing=pd.read_csv('listings.csv')"
   ]
  },
  {
   "cell_type": "code",
   "execution_count": 7,
   "metadata": {},
   "outputs": [
    {
     "data": {
      "text/html": [
       "<div>\n",
       "<style scoped>\n",
       "    .dataframe tbody tr th:only-of-type {\n",
       "        vertical-align: middle;\n",
       "    }\n",
       "\n",
       "    .dataframe tbody tr th {\n",
       "        vertical-align: top;\n",
       "    }\n",
       "\n",
       "    .dataframe thead th {\n",
       "        text-align: right;\n",
       "    }\n",
       "</style>\n",
       "<table border=\"1\" class=\"dataframe\">\n",
       "  <thead>\n",
       "    <tr style=\"text-align: right;\">\n",
       "      <th></th>\n",
       "      <th>listing_id</th>\n",
       "      <th>date</th>\n",
       "      <th>available</th>\n",
       "      <th>price</th>\n",
       "    </tr>\n",
       "  </thead>\n",
       "  <tbody>\n",
       "    <tr>\n",
       "      <th>0</th>\n",
       "      <td>241032</td>\n",
       "      <td>2016-01-04</td>\n",
       "      <td>t</td>\n",
       "      <td>$85.00</td>\n",
       "    </tr>\n",
       "    <tr>\n",
       "      <th>1</th>\n",
       "      <td>241032</td>\n",
       "      <td>2016-01-05</td>\n",
       "      <td>t</td>\n",
       "      <td>$85.00</td>\n",
       "    </tr>\n",
       "    <tr>\n",
       "      <th>2</th>\n",
       "      <td>241032</td>\n",
       "      <td>2016-01-06</td>\n",
       "      <td>f</td>\n",
       "      <td>NaN</td>\n",
       "    </tr>\n",
       "    <tr>\n",
       "      <th>3</th>\n",
       "      <td>241032</td>\n",
       "      <td>2016-01-07</td>\n",
       "      <td>f</td>\n",
       "      <td>NaN</td>\n",
       "    </tr>\n",
       "    <tr>\n",
       "      <th>4</th>\n",
       "      <td>241032</td>\n",
       "      <td>2016-01-08</td>\n",
       "      <td>f</td>\n",
       "      <td>NaN</td>\n",
       "    </tr>\n",
       "  </tbody>\n",
       "</table>\n",
       "</div>"
      ],
      "text/plain": [
       "   listing_id        date available   price\n",
       "0      241032  2016-01-04         t  $85.00\n",
       "1      241032  2016-01-05         t  $85.00\n",
       "2      241032  2016-01-06         f     NaN\n",
       "3      241032  2016-01-07         f     NaN\n",
       "4      241032  2016-01-08         f     NaN"
      ]
     },
     "execution_count": 7,
     "metadata": {},
     "output_type": "execute_result"
    }
   ],
   "source": [
    "###looking at the datasets\n",
    "\n",
    "df_cal.head(5)"
   ]
  },
  {
   "cell_type": "code",
   "execution_count": 8,
   "metadata": {},
   "outputs": [
    {
     "data": {
      "text/html": [
       "<div>\n",
       "<style scoped>\n",
       "    .dataframe tbody tr th:only-of-type {\n",
       "        vertical-align: middle;\n",
       "    }\n",
       "\n",
       "    .dataframe tbody tr th {\n",
       "        vertical-align: top;\n",
       "    }\n",
       "\n",
       "    .dataframe thead th {\n",
       "        text-align: right;\n",
       "    }\n",
       "</style>\n",
       "<table border=\"1\" class=\"dataframe\">\n",
       "  <thead>\n",
       "    <tr style=\"text-align: right;\">\n",
       "      <th></th>\n",
       "      <th>id</th>\n",
       "      <th>listing_url</th>\n",
       "      <th>scrape_id</th>\n",
       "      <th>last_scraped</th>\n",
       "      <th>name</th>\n",
       "      <th>summary</th>\n",
       "      <th>space</th>\n",
       "      <th>description</th>\n",
       "      <th>experiences_offered</th>\n",
       "      <th>neighborhood_overview</th>\n",
       "      <th>...</th>\n",
       "      <th>review_scores_value</th>\n",
       "      <th>requires_license</th>\n",
       "      <th>license</th>\n",
       "      <th>jurisdiction_names</th>\n",
       "      <th>instant_bookable</th>\n",
       "      <th>cancellation_policy</th>\n",
       "      <th>require_guest_profile_picture</th>\n",
       "      <th>require_guest_phone_verification</th>\n",
       "      <th>calculated_host_listings_count</th>\n",
       "      <th>reviews_per_month</th>\n",
       "    </tr>\n",
       "  </thead>\n",
       "  <tbody>\n",
       "    <tr>\n",
       "      <th>0</th>\n",
       "      <td>241032</td>\n",
       "      <td>https://www.airbnb.com/rooms/241032</td>\n",
       "      <td>20160104002432</td>\n",
       "      <td>2016-01-04</td>\n",
       "      <td>Stylish Queen Anne Apartment</td>\n",
       "      <td>NaN</td>\n",
       "      <td>Make your self at home in this charming one-be...</td>\n",
       "      <td>Make your self at home in this charming one-be...</td>\n",
       "      <td>none</td>\n",
       "      <td>NaN</td>\n",
       "      <td>...</td>\n",
       "      <td>10.0</td>\n",
       "      <td>f</td>\n",
       "      <td>NaN</td>\n",
       "      <td>WASHINGTON</td>\n",
       "      <td>f</td>\n",
       "      <td>moderate</td>\n",
       "      <td>f</td>\n",
       "      <td>f</td>\n",
       "      <td>2</td>\n",
       "      <td>4.07</td>\n",
       "    </tr>\n",
       "    <tr>\n",
       "      <th>1</th>\n",
       "      <td>953595</td>\n",
       "      <td>https://www.airbnb.com/rooms/953595</td>\n",
       "      <td>20160104002432</td>\n",
       "      <td>2016-01-04</td>\n",
       "      <td>Bright &amp; Airy Queen Anne Apartment</td>\n",
       "      <td>Chemically sensitive? We've removed the irrita...</td>\n",
       "      <td>Beautiful, hypoallergenic apartment in an extr...</td>\n",
       "      <td>Chemically sensitive? We've removed the irrita...</td>\n",
       "      <td>none</td>\n",
       "      <td>Queen Anne is a wonderful, truly functional vi...</td>\n",
       "      <td>...</td>\n",
       "      <td>10.0</td>\n",
       "      <td>f</td>\n",
       "      <td>NaN</td>\n",
       "      <td>WASHINGTON</td>\n",
       "      <td>f</td>\n",
       "      <td>strict</td>\n",
       "      <td>t</td>\n",
       "      <td>t</td>\n",
       "      <td>6</td>\n",
       "      <td>1.48</td>\n",
       "    </tr>\n",
       "    <tr>\n",
       "      <th>2</th>\n",
       "      <td>3308979</td>\n",
       "      <td>https://www.airbnb.com/rooms/3308979</td>\n",
       "      <td>20160104002432</td>\n",
       "      <td>2016-01-04</td>\n",
       "      <td>New Modern House-Amazing water view</td>\n",
       "      <td>New modern house built in 2013.  Spectacular s...</td>\n",
       "      <td>Our house is modern, light and fresh with a wa...</td>\n",
       "      <td>New modern house built in 2013.  Spectacular s...</td>\n",
       "      <td>none</td>\n",
       "      <td>Upper Queen Anne is a charming neighborhood fu...</td>\n",
       "      <td>...</td>\n",
       "      <td>10.0</td>\n",
       "      <td>f</td>\n",
       "      <td>NaN</td>\n",
       "      <td>WASHINGTON</td>\n",
       "      <td>f</td>\n",
       "      <td>strict</td>\n",
       "      <td>f</td>\n",
       "      <td>f</td>\n",
       "      <td>2</td>\n",
       "      <td>1.15</td>\n",
       "    </tr>\n",
       "    <tr>\n",
       "      <th>3</th>\n",
       "      <td>7421966</td>\n",
       "      <td>https://www.airbnb.com/rooms/7421966</td>\n",
       "      <td>20160104002432</td>\n",
       "      <td>2016-01-04</td>\n",
       "      <td>Queen Anne Chateau</td>\n",
       "      <td>A charming apartment that sits atop Queen Anne...</td>\n",
       "      <td>NaN</td>\n",
       "      <td>A charming apartment that sits atop Queen Anne...</td>\n",
       "      <td>none</td>\n",
       "      <td>NaN</td>\n",
       "      <td>...</td>\n",
       "      <td>NaN</td>\n",
       "      <td>f</td>\n",
       "      <td>NaN</td>\n",
       "      <td>WASHINGTON</td>\n",
       "      <td>f</td>\n",
       "      <td>flexible</td>\n",
       "      <td>f</td>\n",
       "      <td>f</td>\n",
       "      <td>1</td>\n",
       "      <td>NaN</td>\n",
       "    </tr>\n",
       "    <tr>\n",
       "      <th>4</th>\n",
       "      <td>278830</td>\n",
       "      <td>https://www.airbnb.com/rooms/278830</td>\n",
       "      <td>20160104002432</td>\n",
       "      <td>2016-01-04</td>\n",
       "      <td>Charming craftsman 3 bdm house</td>\n",
       "      <td>Cozy family craftman house in beautiful neighb...</td>\n",
       "      <td>Cozy family craftman house in beautiful neighb...</td>\n",
       "      <td>Cozy family craftman house in beautiful neighb...</td>\n",
       "      <td>none</td>\n",
       "      <td>We are in the beautiful neighborhood of Queen ...</td>\n",
       "      <td>...</td>\n",
       "      <td>9.0</td>\n",
       "      <td>f</td>\n",
       "      <td>NaN</td>\n",
       "      <td>WASHINGTON</td>\n",
       "      <td>f</td>\n",
       "      <td>strict</td>\n",
       "      <td>f</td>\n",
       "      <td>f</td>\n",
       "      <td>1</td>\n",
       "      <td>0.89</td>\n",
       "    </tr>\n",
       "  </tbody>\n",
       "</table>\n",
       "<p>5 rows × 92 columns</p>\n",
       "</div>"
      ],
      "text/plain": [
       "        id                           listing_url       scrape_id last_scraped  \\\n",
       "0   241032   https://www.airbnb.com/rooms/241032  20160104002432   2016-01-04   \n",
       "1   953595   https://www.airbnb.com/rooms/953595  20160104002432   2016-01-04   \n",
       "2  3308979  https://www.airbnb.com/rooms/3308979  20160104002432   2016-01-04   \n",
       "3  7421966  https://www.airbnb.com/rooms/7421966  20160104002432   2016-01-04   \n",
       "4   278830   https://www.airbnb.com/rooms/278830  20160104002432   2016-01-04   \n",
       "\n",
       "                                  name  \\\n",
       "0         Stylish Queen Anne Apartment   \n",
       "1   Bright & Airy Queen Anne Apartment   \n",
       "2  New Modern House-Amazing water view   \n",
       "3                   Queen Anne Chateau   \n",
       "4       Charming craftsman 3 bdm house   \n",
       "\n",
       "                                             summary  \\\n",
       "0                                                NaN   \n",
       "1  Chemically sensitive? We've removed the irrita...   \n",
       "2  New modern house built in 2013.  Spectacular s...   \n",
       "3  A charming apartment that sits atop Queen Anne...   \n",
       "4  Cozy family craftman house in beautiful neighb...   \n",
       "\n",
       "                                               space  \\\n",
       "0  Make your self at home in this charming one-be...   \n",
       "1  Beautiful, hypoallergenic apartment in an extr...   \n",
       "2  Our house is modern, light and fresh with a wa...   \n",
       "3                                                NaN   \n",
       "4  Cozy family craftman house in beautiful neighb...   \n",
       "\n",
       "                                         description experiences_offered  \\\n",
       "0  Make your self at home in this charming one-be...                none   \n",
       "1  Chemically sensitive? We've removed the irrita...                none   \n",
       "2  New modern house built in 2013.  Spectacular s...                none   \n",
       "3  A charming apartment that sits atop Queen Anne...                none   \n",
       "4  Cozy family craftman house in beautiful neighb...                none   \n",
       "\n",
       "                               neighborhood_overview  ... review_scores_value  \\\n",
       "0                                                NaN  ...                10.0   \n",
       "1  Queen Anne is a wonderful, truly functional vi...  ...                10.0   \n",
       "2  Upper Queen Anne is a charming neighborhood fu...  ...                10.0   \n",
       "3                                                NaN  ...                 NaN   \n",
       "4  We are in the beautiful neighborhood of Queen ...  ...                 9.0   \n",
       "\n",
       "  requires_license license jurisdiction_names instant_bookable  \\\n",
       "0                f     NaN         WASHINGTON                f   \n",
       "1                f     NaN         WASHINGTON                f   \n",
       "2                f     NaN         WASHINGTON                f   \n",
       "3                f     NaN         WASHINGTON                f   \n",
       "4                f     NaN         WASHINGTON                f   \n",
       "\n",
       "  cancellation_policy  require_guest_profile_picture  \\\n",
       "0            moderate                              f   \n",
       "1              strict                              t   \n",
       "2              strict                              f   \n",
       "3            flexible                              f   \n",
       "4              strict                              f   \n",
       "\n",
       "  require_guest_phone_verification calculated_host_listings_count  \\\n",
       "0                                f                              2   \n",
       "1                                t                              6   \n",
       "2                                f                              2   \n",
       "3                                f                              1   \n",
       "4                                f                              1   \n",
       "\n",
       "  reviews_per_month  \n",
       "0              4.07  \n",
       "1              1.48  \n",
       "2              1.15  \n",
       "3               NaN  \n",
       "4              0.89  \n",
       "\n",
       "[5 rows x 92 columns]"
      ]
     },
     "execution_count": 8,
     "metadata": {},
     "output_type": "execute_result"
    }
   ],
   "source": [
    "###looking at the datasets\n",
    "\n",
    "df_listing.head(5)"
   ]
  },
  {
   "cell_type": "markdown",
   "metadata": {},
   "source": [
    "**Exploring the Calendar dataset**\n",
    "\n",
    "1. Identify # of rows and columns\n",
    "2. Missing values\n",
    "3. Describe the variables in the dataset and look at the datatypes\n",
    "4. Data Wrangling:\n",
    "    a. Clean/convert Price from String to Float\n",
    "    b. Extract Month from the dates"
   ]
  },
  {
   "cell_type": "code",
   "execution_count": 9,
   "metadata": {},
   "outputs": [
    {
     "name": "stdout",
     "output_type": "stream",
     "text": [
      "Number of rows and columns: (1393570, 4)\n",
      "\n",
      "Percentage of Missing values: listing_id     0.000000\n",
      "date           0.000000\n",
      "available      0.000000\n",
      "price         32.938998\n",
      "dtype: float64\n",
      "\n",
      "          listing_id        date available    price\n",
      "count   1.393570e+06     1393570   1393570   934542\n",
      "unique           NaN         365         2      669\n",
      "top              NaN  2016-08-28         t  $150.00\n",
      "freq             NaN        3818    934542    36646\n",
      "mean    5.550111e+06         NaN       NaN      NaN\n",
      "std     2.962274e+06         NaN       NaN      NaN\n",
      "min     3.335000e+03         NaN       NaN      NaN\n",
      "25%     3.258213e+06         NaN       NaN      NaN\n",
      "50%     6.118244e+06         NaN       NaN      NaN\n",
      "75%     8.035212e+06         NaN       NaN      NaN\n",
      "max     1.034016e+07         NaN       NaN      NaN\n"
     ]
    }
   ],
   "source": [
    "###Exploring the calendar dataset\n",
    "\n",
    "###Number of rows and columns\n",
    "print('Number of rows and columns:',df_cal.shape)\n",
    "print()\n",
    "\n",
    "###Number of missing values for price\n",
    "print('Percentage of Missing values:',(df_cal.isnull().sum()/len(df_cal))*100)\n",
    "print()\n",
    "\n",
    "###Describe\n",
    "print(df_cal.describe(include='all'))"
   ]
  },
  {
   "cell_type": "code",
   "execution_count": 10,
   "metadata": {},
   "outputs": [
    {
     "data": {
      "text/plain": [
       "listing_id     int64\n",
       "date          object\n",
       "available     object\n",
       "price         object\n",
       "dtype: object"
      ]
     },
     "execution_count": 10,
     "metadata": {},
     "output_type": "execute_result"
    }
   ],
   "source": [
    "###Datatypes for calendar dataset\n",
    "\n",
    "df_cal.dtypes"
   ]
  },
  {
   "cell_type": "code",
   "execution_count": 11,
   "metadata": {},
   "outputs": [],
   "source": [
    "#######Cleaning up Price variable\n",
    "#Can't convert directly to int since it has string values\n",
    "#first convert to str and remove the dollar sign and the comma, then convert to float\n",
    "\n",
    "df_cal[\"price\"]=df_cal[\"price\"].str.replace(',','')\n",
    "df_cal[\"price\"]=df_cal[\"price\"].str.replace('$','')\n",
    "\n",
    "df_cal[\"price\"]=df_cal[\"price\"].astype(float)"
   ]
  },
  {
   "cell_type": "code",
   "execution_count": 12,
   "metadata": {},
   "outputs": [
    {
     "data": {
      "text/plain": [
       "0    85.0\n",
       "1    85.0\n",
       "2     0.0\n",
       "3     0.0\n",
       "4     0.0\n",
       "Name: price, dtype: float64"
      ]
     },
     "execution_count": 12,
     "metadata": {},
     "output_type": "execute_result"
    }
   ],
   "source": [
    "### remove the missing price values, so convert to 0\n",
    "###since that would still mean price is unavaialble or not displayed and wont affect the data set\n",
    "df_cal[\"price\"].fillna(0, inplace=True)\n",
    "df_cal[\"price\"].head()"
   ]
  },
  {
   "cell_type": "code",
   "execution_count": 13,
   "metadata": {},
   "outputs": [
    {
     "name": "stdout",
     "output_type": "stream",
     "text": [
      " Date range for the listings:  2016-01-04 to  2017-01-02\n"
     ]
    }
   ],
   "source": [
    "###Looking at the Date range available in the dataset\n",
    "print(\" Date range for the listings: \",df_cal['date'].min(),\"to \", df_cal['date'].max())"
   ]
  },
  {
   "cell_type": "code",
   "execution_count": 14,
   "metadata": {},
   "outputs": [
    {
     "data": {
      "text/plain": [
       "0    1\n",
       "1    1\n",
       "2    1\n",
       "3    1\n",
       "4    1\n",
       "Name: Month, dtype: int64"
      ]
     },
     "execution_count": 14,
     "metadata": {},
     "output_type": "execute_result"
    }
   ],
   "source": [
    "#####Extracting Month from the dates\n",
    "\n",
    "##converting date to datetime to extract  month  later\n",
    "df_cal['date_column'] = pd.to_datetime(df_cal['date'])\n",
    "##creating a Month column from the date column\n",
    "df_cal['Month']=df_cal['date_column'].dt.month\n",
    "df_cal['Month'].head()"
   ]
  },
  {
   "cell_type": "markdown",
   "metadata": {},
   "source": [
    "**Exploring price**"
   ]
  },
  {
   "cell_type": "code",
   "execution_count": 15,
   "metadata": {},
   "outputs": [
    {
     "name": "stdout",
     "output_type": "stream",
     "text": [
      "Sum of all prices charged through the year: $ 128915264.0\n"
     ]
    }
   ],
   "source": [
    "###total sum of all prices charged\n",
    "total_earned=np.sum(df_cal[\"price\"])\n",
    "print(\"Sum of all prices charged through the year: $\",total_earned)"
   ]
  },
  {
   "cell_type": "code",
   "execution_count": 16,
   "metadata": {},
   "outputs": [
    {
     "name": "stdout",
     "output_type": "stream",
     "text": [
      "Month\n",
      "1     114540\n",
      "2     110722\n",
      "3     118358\n",
      "4     114540\n",
      "5     118358\n",
      "6     114540\n",
      "7     118358\n",
      "8     118358\n",
      "9     114540\n",
      "10    118358\n",
      "11    114540\n",
      "12    118358\n",
      "Name: price, dtype: int64\n"
     ]
    }
   ],
   "source": [
    "####sum of prices charged per month\n",
    "monthly_bookings=df_cal.groupby('Month')['price'].count()\n",
    "print(monthly_bookings)"
   ]
  },
  {
   "cell_type": "code",
   "execution_count": 17,
   "metadata": {},
   "outputs": [
    {
     "name": "stdout",
     "output_type": "stream",
     "text": [
      "Average earning per listing: $ 33765.0\n"
     ]
    }
   ],
   "source": [
    "###average price charged per listing for the year\n",
    "avg_price=total_earned/df_cal['listing_id'].nunique()  \n",
    "print(\"Average earning per listing: $\",round(avg_price,0))"
   ]
  },
  {
   "cell_type": "code",
   "execution_count": 18,
   "metadata": {},
   "outputs": [
    {
     "name": "stdout",
     "output_type": "stream",
     "text": [
      "Average price charged per listing: $ 93.0\n"
     ]
    }
   ],
   "source": [
    "###Average price charged per listing \n",
    "print(\"Average price charged per listing: $\", round(df_cal['price'].mean(),0))"
   ]
  },
  {
   "cell_type": "code",
   "execution_count": 19,
   "metadata": {},
   "outputs": [
    {
     "data": {
      "text/plain": [
       "listing_id\n",
       "3335        101.589041\n",
       "4291         82.000000\n",
       "5682         45.668493\n",
       "6606         92.849315\n",
       "7369         12.342466\n",
       "9419         85.616438\n",
       "9460         17.761644\n",
       "9531         83.589041\n",
       "9534         89.726027\n",
       "9596        120.739726\n",
       "10385        60.000000\n",
       "10695       109.000000\n",
       "11012       312.849315\n",
       "11411        60.000000\n",
       "13068       391.109589\n",
       "14386        34.630137\n",
       "15108        50.301370\n",
       "17951        79.723288\n",
       "19611        64.052055\n",
       "19619        74.616438\n",
       "19623       107.246575\n",
       "20868       134.372603\n",
       "20927        85.175342\n",
       "20928        76.975342\n",
       "23192       107.616438\n",
       "23356       199.123288\n",
       "23430        74.739726\n",
       "23919       143.301370\n",
       "24212       103.706849\n",
       "25002        65.890411\n",
       "               ...    \n",
       "10234558     53.610959\n",
       "10235014      2.054795\n",
       "10235136      0.136986\n",
       "10247453    158.013699\n",
       "10248139      1.972603\n",
       "10249527      0.747945\n",
       "10250735      0.821918\n",
       "10252110     18.082192\n",
       "10262971     70.000000\n",
       "10265391     69.424658\n",
       "10267360     21.189041\n",
       "10272763     68.000000\n",
       "10273158    130.158904\n",
       "10274175     43.479452\n",
       "10279830    161.575342\n",
       "10281965     53.643836\n",
       "10292753     46.027397\n",
       "10295151    136.610959\n",
       "10299108     10.328767\n",
       "10299195      0.997260\n",
       "10309898    250.000000\n",
       "10310373     19.232877\n",
       "10318171     49.863014\n",
       "10319529      0.134247\n",
       "10331249     43.643836\n",
       "10332096     40.000000\n",
       "10334184    118.684932\n",
       "10339144      0.000000\n",
       "10339145    237.904110\n",
       "10340165     42.175342\n",
       "Name: price, Length: 3818, dtype: float64"
      ]
     },
     "execution_count": 19,
     "metadata": {},
     "output_type": "execute_result"
    }
   ],
   "source": [
    "## Average price charged per listing\n",
    "mean_price_listing=df_cal.groupby('listing_id')['price'].mean()\n",
    "mean_price_listing"
   ]
  },
  {
   "cell_type": "code",
   "execution_count": 20,
   "metadata": {},
   "outputs": [
    {
     "name": "stdout",
     "output_type": "stream",
     "text": [
      "Avg price for Top 10 most expensive listings: $ 814.0\n"
     ]
    }
   ],
   "source": [
    "##Average price charged for the top 10 listings\n",
    "print(\"Avg price for Top 10 most expensive listings: $\",round(mean_price_listing.nlargest(10).mean(),0))"
   ]
  },
  {
   "cell_type": "code",
   "execution_count": 21,
   "metadata": {},
   "outputs": [
    {
     "name": "stdout",
     "output_type": "stream",
     "text": [
      "Listings % avaialbility through the year: available\n",
      "f    33.0\n",
      "t    67.0\n",
      "Name: listing_id, dtype: float64\n"
     ]
    }
   ],
   "source": [
    "###Listing avaialble through most of the year\n",
    "listing_avlb=(df_cal.groupby('available')['listing_id'].count()/df_cal.shape[0])*100\n",
    "print(\"Listings % avaialbility through the year:\", round(listing_avlb,0))"
   ]
  },
  {
   "cell_type": "code",
   "execution_count": 22,
   "metadata": {},
   "outputs": [
    {
     "data": {
      "text/plain": [
       "Month\n",
       "1      69.683499\n",
       "2      82.308439\n",
       "3      91.233047\n",
       "4      89.683700\n",
       "5      94.281823\n",
       "6      99.453597\n",
       "7      95.377854\n",
       "8      97.181255\n",
       "9      96.612092\n",
       "10     95.444659\n",
       "11     96.879911\n",
       "12    100.958803\n",
       "Name: price, dtype: float64"
      ]
     },
     "execution_count": 22,
     "metadata": {},
     "output_type": "execute_result"
    }
   ],
   "source": [
    "###Average Price charged per month\n",
    "df_cal.groupby('Month')['price'].mean()"
   ]
  },
  {
   "cell_type": "code",
   "execution_count": 23,
   "metadata": {},
   "outputs": [
    {
     "data": {
      "text/plain": [
       "Text(0, 0.5, 'Average Price')"
      ]
     },
     "execution_count": 23,
     "metadata": {},
     "output_type": "execute_result"
    },
    {
     "data": {
      "image/png": "[encoded data removed]",
      "text/plain": [
       "<Figure size 432x288 with 1 Axes>"
      ]
     },
     "metadata": {
      "needs_background": "light"
     },
     "output_type": "display_data"
    }
   ],
   "source": [
    "month_price=df_cal.groupby('Month')['price'].mean().plot()\n",
    "plt.ylabel('Average Price')"
   ]
  },
  {
   "cell_type": "markdown",
   "metadata": {},
   "source": [
    "**Exploring the Listing dataset**\n",
    "1. Identify # of rows and columns\n",
    "2. Missing values\n",
    "3. Describe the variables in the dataset and look at the datatypes\n",
    "4. Data Wrangling: Clean/convert Price from String to Float\n",
    "5. Identify all the categorical and quantitative variables\n",
    "6. Observing the average price charged per neighbourhood\n",
    "7. Ratings and amenities correlation"
   ]
  },
  {
   "cell_type": "code",
   "execution_count": 24,
   "metadata": {},
   "outputs": [
    {
     "name": "stdout",
     "output_type": "stream",
     "text": [
      "Number of rows and columns: (3818, 92)\n",
      "\n",
      "Percentage of Missing values: id                                    0.000000\n",
      "listing_url                           0.000000\n",
      "scrape_id                             0.000000\n",
      "last_scraped                          0.000000\n",
      "name                                  0.000000\n",
      "summary                               4.635935\n",
      "space                                14.903091\n",
      "description                           0.000000\n",
      "experiences_offered                   0.000000\n",
      "neighborhood_overview                27.029859\n",
      "notes                                42.063908\n",
      "transit                              24.463070\n",
      "thumbnail_url                         8.381351\n",
      "medium_url                            8.381351\n",
      "picture_url                           0.000000\n",
      "xl_picture_url                        8.381351\n",
      "host_id                               0.000000\n",
      "host_url                              0.000000\n",
      "host_name                             0.052383\n",
      "host_since                            0.052383\n",
      "host_location                         0.209534\n",
      "host_about                           22.498690\n",
      "host_response_time                   13.698271\n",
      "host_response_rate                   13.698271\n",
      "host_acceptance_rate                 20.246202\n",
      "host_is_superhost                     0.052383\n",
      "host_thumbnail_url                    0.052383\n",
      "host_picture_url                      0.052383\n",
      "host_neighbourhood                    7.857517\n",
      "host_listings_count                   0.052383\n",
      "                                       ...    \n",
      "guests_included                       0.000000\n",
      "extra_people                          0.000000\n",
      "minimum_nights                        0.000000\n",
      "maximum_nights                        0.000000\n",
      "calendar_updated                      0.000000\n",
      "has_availability                      0.000000\n",
      "availability_30                       0.000000\n",
      "availability_60                       0.000000\n",
      "availability_90                       0.000000\n",
      "availability_365                      0.000000\n",
      "calendar_last_scraped                 0.000000\n",
      "number_of_reviews                     0.000000\n",
      "first_review                         16.422211\n",
      "last_review                          16.422211\n",
      "review_scores_rating                 16.946045\n",
      "review_scores_accuracy               17.234154\n",
      "review_scores_cleanliness            17.103195\n",
      "review_scores_checkin                17.234154\n",
      "review_scores_communication          17.050812\n",
      "review_scores_location               17.155579\n",
      "review_scores_value                  17.181771\n",
      "requires_license                      0.000000\n",
      "license                             100.000000\n",
      "jurisdiction_names                    0.000000\n",
      "instant_bookable                      0.000000\n",
      "cancellation_policy                   0.000000\n",
      "require_guest_profile_picture         0.000000\n",
      "require_guest_phone_verification      0.000000\n",
      "calculated_host_listings_count        0.000000\n",
      "reviews_per_month                    16.422211\n",
      "Length: 92, dtype: float64\n",
      "\n",
      "                  id                           listing_url     scrape_id  \\\n",
      "count   3.818000e+03                                  3818  3.818000e+03   \n",
      "unique           NaN                                  3818           NaN   \n",
      "top              NaN  https://www.airbnb.com/rooms/8083242           NaN   \n",
      "freq             NaN                                     1           NaN   \n",
      "mean    5.550111e+06                                   NaN  2.016010e+13   \n",
      "std     2.962660e+06                                   NaN  0.000000e+00   \n",
      "min     3.335000e+03                                   NaN  2.016010e+13   \n",
      "25%     3.258256e+06                                   NaN  2.016010e+13   \n",
      "50%     6.118244e+06                                   NaN  2.016010e+13   \n",
      "75%     8.035127e+06                                   NaN  2.016010e+13   \n",
      "max     1.034016e+07                                   NaN  2.016010e+13   \n",
      "\n",
      "       last_scraped                    name  \\\n",
      "count          3818                    3818   \n",
      "unique            1                    3792   \n",
      "top      2016-01-04  Capitol Hill Apartment   \n",
      "freq           3818                       3   \n",
      "mean            NaN                     NaN   \n",
      "std             NaN                     NaN   \n",
      "min             NaN                     NaN   \n",
      "25%             NaN                     NaN   \n",
      "50%             NaN                     NaN   \n",
      "75%             NaN                     NaN   \n",
      "max             NaN                     NaN   \n",
      "\n",
      "                                                  summary  \\\n",
      "count                                                3641   \n",
      "unique                                               3478   \n",
      "top     This is a modern fully-furnished studio apartm...   \n",
      "freq                                                   15   \n",
      "mean                                                  NaN   \n",
      "std                                                   NaN   \n",
      "min                                                   NaN   \n",
      "25%                                                   NaN   \n",
      "50%                                                   NaN   \n",
      "75%                                                   NaN   \n",
      "max                                                   NaN   \n",
      "\n",
      "                                                    space  \\\n",
      "count                                                3249   \n",
      "unique                                               3119   \n",
      "top     *Note: This fall, there will be major renovati...   \n",
      "freq                                                   14   \n",
      "mean                                                  NaN   \n",
      "std                                                   NaN   \n",
      "min                                                   NaN   \n",
      "25%                                                   NaN   \n",
      "50%                                                   NaN   \n",
      "75%                                                   NaN   \n",
      "max                                                   NaN   \n",
      "\n",
      "                                              description experiences_offered  \\\n",
      "count                                                3818                3818   \n",
      "unique                                               3742                   1   \n",
      "top     Our space is a mix of a hostel and a home. We ...                none   \n",
      "freq                                                   10                3818   \n",
      "mean                                                  NaN                 NaN   \n",
      "std                                                   NaN                 NaN   \n",
      "min                                                   NaN                 NaN   \n",
      "25%                                                   NaN                 NaN   \n",
      "50%                                                   NaN                 NaN   \n",
      "75%                                                   NaN                 NaN   \n",
      "max                                                   NaN                 NaN   \n",
      "\n",
      "                                    neighborhood_overview  ...  \\\n",
      "count                                                2786  ...   \n",
      "unique                                               2506  ...   \n",
      "top     Wallingford is a mostly-residential neighborho...  ...   \n",
      "freq                                                   17  ...   \n",
      "mean                                                  NaN  ...   \n",
      "std                                                   NaN  ...   \n",
      "min                                                   NaN  ...   \n",
      "25%                                                   NaN  ...   \n",
      "50%                                                   NaN  ...   \n",
      "75%                                                   NaN  ...   \n",
      "max                                                   NaN  ...   \n",
      "\n",
      "       review_scores_value requires_license license jurisdiction_names  \\\n",
      "count          3162.000000             3818     0.0               3818   \n",
      "unique                 NaN                1     NaN                  1   \n",
      "top                    NaN                f     NaN         WASHINGTON   \n",
      "freq                   NaN             3818     NaN               3818   \n",
      "mean              9.452245              NaN     NaN                NaN   \n",
      "std               0.750259              NaN     NaN                NaN   \n",
      "min               2.000000              NaN     NaN                NaN   \n",
      "25%               9.000000              NaN     NaN                NaN   \n",
      "50%              10.000000              NaN     NaN                NaN   \n",
      "75%              10.000000              NaN     NaN                NaN   \n",
      "max              10.000000              NaN     NaN                NaN   \n",
      "\n",
      "       instant_bookable cancellation_policy  require_guest_profile_picture  \\\n",
      "count              3818                3818                           3818   \n",
      "unique                2                   3                              2   \n",
      "top                   f              strict                              f   \n",
      "freq               3227                1417                           3497   \n",
      "mean                NaN                 NaN                            NaN   \n",
      "std                 NaN                 NaN                            NaN   \n",
      "min                 NaN                 NaN                            NaN   \n",
      "25%                 NaN                 NaN                            NaN   \n",
      "50%                 NaN                 NaN                            NaN   \n",
      "75%                 NaN                 NaN                            NaN   \n",
      "max                 NaN                 NaN                            NaN   \n",
      "\n",
      "       require_guest_phone_verification calculated_host_listings_count  \\\n",
      "count                              3818                    3818.000000   \n",
      "unique                                2                            NaN   \n",
      "top                                   f                            NaN   \n",
      "freq                               3443                            NaN   \n",
      "mean                                NaN                       2.946307   \n",
      "std                                 NaN                       5.893029   \n",
      "min                                 NaN                       1.000000   \n",
      "25%                                 NaN                       1.000000   \n",
      "50%                                 NaN                       1.000000   \n",
      "75%                                 NaN                       2.000000   \n",
      "max                                 NaN                      37.000000   \n",
      "\n",
      "       reviews_per_month  \n",
      "count        3191.000000  \n",
      "unique               NaN  \n",
      "top                  NaN  \n",
      "freq                 NaN  \n",
      "mean            2.078919  \n",
      "std             1.822348  \n",
      "min             0.020000  \n",
      "25%             0.695000  \n",
      "50%             1.540000  \n",
      "75%             3.000000  \n",
      "max            12.150000  \n",
      "\n",
      "[11 rows x 92 columns]\n"
     ]
    }
   ],
   "source": [
    "###For the listings dataset\n",
    "\n",
    "##Number of rows and columns\n",
    "print('Number of rows and columns:',df_listing.shape)\n",
    "print()\n",
    "\n",
    "###Number of missing values\n",
    "print('Percentage of Missing values:',(df_listing.isnull().sum()/len(df_listing))*100)\n",
    "print()\n",
    "\n",
    "##Describe\n",
    "print(df_listing.describe(include='all'))"
   ]
  },
  {
   "cell_type": "code",
   "execution_count": 25,
   "metadata": {},
   "outputs": [],
   "source": [
    "###Cleaning the price variable and converting to float\n",
    "df_listing[\"price\"]=df_listing[\"price\"].str.replace('$','')\n",
    "df_listing[\"price\"]=df_listing[\"price\"].str.replace(',','')\n",
    "\n",
    "df_listing[\"price\"]=df_listing[\"price\"].astype(float)"
   ]
  },
  {
   "cell_type": "code",
   "execution_count": 26,
   "metadata": {},
   "outputs": [
    {
     "data": {
      "text/plain": [
       "Index(['listing_url', 'last_scraped', 'name', 'summary', 'space',\n",
       "       'description', 'experiences_offered', 'neighborhood_overview', 'notes',\n",
       "       'transit', 'thumbnail_url', 'medium_url', 'picture_url',\n",
       "       'xl_picture_url', 'host_url', 'host_name', 'host_since',\n",
       "       'host_location', 'host_about', 'host_response_time',\n",
       "       'host_response_rate', 'host_acceptance_rate', 'host_is_superhost',\n",
       "       'host_thumbnail_url', 'host_picture_url', 'host_neighbourhood',\n",
       "       'host_verifications', 'host_has_profile_pic', 'host_identity_verified',\n",
       "       'street', 'neighbourhood', 'neighbourhood_cleansed',\n",
       "       'neighbourhood_group_cleansed', 'city', 'state', 'zipcode', 'market',\n",
       "       'smart_location', 'country_code', 'country', 'is_location_exact',\n",
       "       'property_type', 'room_type', 'bed_type', 'amenities', 'weekly_price',\n",
       "       'monthly_price', 'security_deposit', 'cleaning_fee', 'extra_people',\n",
       "       'calendar_updated', 'has_availability', 'calendar_last_scraped',\n",
       "       'first_review', 'last_review', 'requires_license', 'jurisdiction_names',\n",
       "       'instant_bookable', 'cancellation_policy',\n",
       "       'require_guest_profile_picture', 'require_guest_phone_verification'],\n",
       "      dtype='object')"
      ]
     },
     "execution_count": 26,
     "metadata": {},
     "output_type": "execute_result"
    }
   ],
   "source": [
    "### identify all the categorical variables\n",
    "df_listing.select_dtypes(include=\"object\").columns"
   ]
  },
  {
   "cell_type": "code",
   "execution_count": 27,
   "metadata": {},
   "outputs": [
    {
     "data": {
      "text/plain": [
       "Index(['id', 'scrape_id', 'host_id', 'host_listings_count',\n",
       "       'host_total_listings_count', 'latitude', 'longitude', 'accommodates',\n",
       "       'bathrooms', 'bedrooms', 'beds', 'square_feet', 'price',\n",
       "       'guests_included', 'minimum_nights', 'maximum_nights',\n",
       "       'availability_30', 'availability_60', 'availability_90',\n",
       "       'availability_365', 'number_of_reviews', 'review_scores_rating',\n",
       "       'review_scores_accuracy', 'review_scores_cleanliness',\n",
       "       'review_scores_checkin', 'review_scores_communication',\n",
       "       'review_scores_location', 'review_scores_value', 'license',\n",
       "       'calculated_host_listings_count', 'reviews_per_month'],\n",
       "      dtype='object')"
      ]
     },
     "execution_count": 27,
     "metadata": {},
     "output_type": "execute_result"
    }
   ],
   "source": [
    "### identify all the quantitative variables\n",
    "df_listing.select_dtypes(include=(\"float64\",\"int64\")).columns"
   ]
  },
  {
   "cell_type": "code",
   "execution_count": 28,
   "metadata": {},
   "outputs": [
    {
     "data": {
      "text/plain": [
       "within an hour        1692\n",
       "within a few hours     968\n",
       "within a day           597\n",
       "a few days or more      38\n",
       "Name: host_response_time, dtype: int64"
      ]
     },
     "execution_count": 28,
     "metadata": {},
     "output_type": "execute_result"
    }
   ],
   "source": [
    "##Host response time\n",
    "df_listing['host_response_time'].value_counts()"
   ]
  },
  {
   "cell_type": "code",
   "execution_count": 29,
   "metadata": {},
   "outputs": [
    {
     "data": {
      "text/plain": [
       "Text(0.5, 0, 'Neighbourhoods')"
      ]
     },
     "execution_count": 29,
     "metadata": {},
     "output_type": "execute_result"
    },
    {
     "data": {
      "image/png": "[encoded data removed]",
      "text/plain": [
       "<Figure size 432x288 with 1 Axes>"
      ]
     },
     "metadata": {
      "needs_background": "light"
     },
     "output_type": "display_data"
    }
   ],
   "source": [
    "###Average price per neighbourhood\n",
    "neighbourhood_price=df_listing.groupby('neighbourhood_cleansed')['price'].mean().plot()\n",
    "plt.xlabel('Neighbourhoods')"
   ]
  },
  {
   "cell_type": "code",
   "execution_count": 30,
   "metadata": {},
   "outputs": [
    {
     "data": {
      "text/html": [
       "<div>\n",
       "<style scoped>\n",
       "    .dataframe tbody tr th:only-of-type {\n",
       "        vertical-align: middle;\n",
       "    }\n",
       "\n",
       "    .dataframe tbody tr th {\n",
       "        vertical-align: top;\n",
       "    }\n",
       "\n",
       "    .dataframe thead th {\n",
       "        text-align: right;\n",
       "    }\n",
       "</style>\n",
       "<table border=\"1\" class=\"dataframe\">\n",
       "  <thead>\n",
       "    <tr style=\"text-align: right;\">\n",
       "      <th></th>\n",
       "      <th>review_scores_rating</th>\n",
       "      <th>review_scores_accuracy</th>\n",
       "      <th>review_scores_cleanliness</th>\n",
       "      <th>review_scores_checkin</th>\n",
       "      <th>review_scores_communication</th>\n",
       "      <th>review_scores_location</th>\n",
       "      <th>review_scores_value</th>\n",
       "      <th>price</th>\n",
       "    </tr>\n",
       "  </thead>\n",
       "  <tbody>\n",
       "    <tr>\n",
       "      <th>review_scores_rating</th>\n",
       "      <td>1.000000</td>\n",
       "      <td>0.621257</td>\n",
       "      <td>0.642882</td>\n",
       "      <td>0.521813</td>\n",
       "      <td>0.540620</td>\n",
       "      <td>0.368423</td>\n",
       "      <td>0.696534</td>\n",
       "      <td>0.055551</td>\n",
       "    </tr>\n",
       "    <tr>\n",
       "      <th>review_scores_accuracy</th>\n",
       "      <td>0.621257</td>\n",
       "      <td>1.000000</td>\n",
       "      <td>0.543345</td>\n",
       "      <td>0.407238</td>\n",
       "      <td>0.423189</td>\n",
       "      <td>0.267605</td>\n",
       "      <td>0.562878</td>\n",
       "      <td>0.019026</td>\n",
       "    </tr>\n",
       "    <tr>\n",
       "      <th>review_scores_cleanliness</th>\n",
       "      <td>0.642882</td>\n",
       "      <td>0.543345</td>\n",
       "      <td>1.000000</td>\n",
       "      <td>0.398696</td>\n",
       "      <td>0.388146</td>\n",
       "      <td>0.277834</td>\n",
       "      <td>0.524354</td>\n",
       "      <td>0.054357</td>\n",
       "    </tr>\n",
       "    <tr>\n",
       "      <th>review_scores_checkin</th>\n",
       "      <td>0.521813</td>\n",
       "      <td>0.407238</td>\n",
       "      <td>0.398696</td>\n",
       "      <td>1.000000</td>\n",
       "      <td>0.696345</td>\n",
       "      <td>0.240903</td>\n",
       "      <td>0.403263</td>\n",
       "      <td>0.007877</td>\n",
       "    </tr>\n",
       "    <tr>\n",
       "      <th>review_scores_communication</th>\n",
       "      <td>0.540620</td>\n",
       "      <td>0.423189</td>\n",
       "      <td>0.388146</td>\n",
       "      <td>0.696345</td>\n",
       "      <td>1.000000</td>\n",
       "      <td>0.284635</td>\n",
       "      <td>0.463772</td>\n",
       "      <td>0.012990</td>\n",
       "    </tr>\n",
       "    <tr>\n",
       "      <th>review_scores_location</th>\n",
       "      <td>0.368423</td>\n",
       "      <td>0.267605</td>\n",
       "      <td>0.277834</td>\n",
       "      <td>0.240903</td>\n",
       "      <td>0.284635</td>\n",
       "      <td>1.000000</td>\n",
       "      <td>0.368252</td>\n",
       "      <td>0.075069</td>\n",
       "    </tr>\n",
       "    <tr>\n",
       "      <th>review_scores_value</th>\n",
       "      <td>0.696534</td>\n",
       "      <td>0.562878</td>\n",
       "      <td>0.524354</td>\n",
       "      <td>0.403263</td>\n",
       "      <td>0.463772</td>\n",
       "      <td>0.368252</td>\n",
       "      <td>1.000000</td>\n",
       "      <td>-0.041776</td>\n",
       "    </tr>\n",
       "    <tr>\n",
       "      <th>price</th>\n",
       "      <td>0.055551</td>\n",
       "      <td>0.019026</td>\n",
       "      <td>0.054357</td>\n",
       "      <td>0.007877</td>\n",
       "      <td>0.012990</td>\n",
       "      <td>0.075069</td>\n",
       "      <td>-0.041776</td>\n",
       "      <td>1.000000</td>\n",
       "    </tr>\n",
       "  </tbody>\n",
       "</table>\n",
       "</div>"
      ],
      "text/plain": [
       "                             review_scores_rating  review_scores_accuracy  \\\n",
       "review_scores_rating                     1.000000                0.621257   \n",
       "review_scores_accuracy                   0.621257                1.000000   \n",
       "review_scores_cleanliness                0.642882                0.543345   \n",
       "review_scores_checkin                    0.521813                0.407238   \n",
       "review_scores_communication              0.540620                0.423189   \n",
       "review_scores_location                   0.368423                0.267605   \n",
       "review_scores_value                      0.696534                0.562878   \n",
       "price                                    0.055551                0.019026   \n",
       "\n",
       "                             review_scores_cleanliness  review_scores_checkin  \\\n",
       "review_scores_rating                          0.642882               0.521813   \n",
       "review_scores_accuracy                        0.543345               0.407238   \n",
       "review_scores_cleanliness                     1.000000               0.398696   \n",
       "review_scores_checkin                         0.398696               1.000000   \n",
       "review_scores_communication                   0.388146               0.696345   \n",
       "review_scores_location                        0.277834               0.240903   \n",
       "review_scores_value                           0.524354               0.403263   \n",
       "price                                         0.054357               0.007877   \n",
       "\n",
       "                             review_scores_communication  \\\n",
       "review_scores_rating                            0.540620   \n",
       "review_scores_accuracy                          0.423189   \n",
       "review_scores_cleanliness                       0.388146   \n",
       "review_scores_checkin                           0.696345   \n",
       "review_scores_communication                     1.000000   \n",
       "review_scores_location                          0.284635   \n",
       "review_scores_value                             0.463772   \n",
       "price                                           0.012990   \n",
       "\n",
       "                             review_scores_location  review_scores_value  \\\n",
       "review_scores_rating                       0.368423             0.696534   \n",
       "review_scores_accuracy                     0.267605             0.562878   \n",
       "review_scores_cleanliness                  0.277834             0.524354   \n",
       "review_scores_checkin                      0.240903             0.403263   \n",
       "review_scores_communication                0.284635             0.463772   \n",
       "review_scores_location                     1.000000             0.368252   \n",
       "review_scores_value                        0.368252             1.000000   \n",
       "price                                      0.075069            -0.041776   \n",
       "\n",
       "                                price  \n",
       "review_scores_rating         0.055551  \n",
       "review_scores_accuracy       0.019026  \n",
       "review_scores_cleanliness    0.054357  \n",
       "review_scores_checkin        0.007877  \n",
       "review_scores_communication  0.012990  \n",
       "review_scores_location       0.075069  \n",
       "review_scores_value         -0.041776  \n",
       "price                        1.000000  "
      ]
     },
     "execution_count": 30,
     "metadata": {},
     "output_type": "execute_result"
    }
   ],
   "source": [
    "###create a dataframe with ratings scores\n",
    "df_reviews=df_listing[['review_scores_rating',\n",
    "       'review_scores_accuracy', 'review_scores_cleanliness',\n",
    "       'review_scores_checkin', 'review_scores_communication',\n",
    "       'review_scores_location', 'review_scores_value','price']]\n",
    "\n",
    "###Correlation matrix\n",
    "corr_ratings=df_reviews.corr()\n",
    "corr_ratings"
   ]
  },
  {
   "cell_type": "code",
   "execution_count": 31,
   "metadata": {},
   "outputs": [
    {
     "data": {
      "text/html": [
       "<div>\n",
       "<style scoped>\n",
       "    .dataframe tbody tr th:only-of-type {\n",
       "        vertical-align: middle;\n",
       "    }\n",
       "\n",
       "    .dataframe tbody tr th {\n",
       "        vertical-align: top;\n",
       "    }\n",
       "\n",
       "    .dataframe thead th {\n",
       "        text-align: right;\n",
       "    }\n",
       "</style>\n",
       "<table border=\"1\" class=\"dataframe\">\n",
       "  <thead>\n",
       "    <tr style=\"text-align: right;\">\n",
       "      <th></th>\n",
       "      <th>bathrooms</th>\n",
       "      <th>bedrooms</th>\n",
       "      <th>beds</th>\n",
       "      <th>guests_included</th>\n",
       "      <th>minimum_nights</th>\n",
       "      <th>maximum_nights</th>\n",
       "      <th>price</th>\n",
       "    </tr>\n",
       "  </thead>\n",
       "  <tbody>\n",
       "    <tr>\n",
       "      <th>bathrooms</th>\n",
       "      <td>1.000000</td>\n",
       "      <td>0.610937</td>\n",
       "      <td>0.532838</td>\n",
       "      <td>0.304780</td>\n",
       "      <td>0.006358</td>\n",
       "      <td>-0.015322</td>\n",
       "      <td>0.516424</td>\n",
       "    </tr>\n",
       "    <tr>\n",
       "      <th>bedrooms</th>\n",
       "      <td>0.610937</td>\n",
       "      <td>1.000000</td>\n",
       "      <td>0.753167</td>\n",
       "      <td>0.457009</td>\n",
       "      <td>0.011957</td>\n",
       "      <td>-0.008591</td>\n",
       "      <td>0.627720</td>\n",
       "    </tr>\n",
       "    <tr>\n",
       "      <th>beds</th>\n",
       "      <td>0.532838</td>\n",
       "      <td>0.753167</td>\n",
       "      <td>1.000000</td>\n",
       "      <td>0.460512</td>\n",
       "      <td>0.002670</td>\n",
       "      <td>-0.009114</td>\n",
       "      <td>0.589525</td>\n",
       "    </tr>\n",
       "    <tr>\n",
       "      <th>guests_included</th>\n",
       "      <td>0.304780</td>\n",
       "      <td>0.457009</td>\n",
       "      <td>0.460512</td>\n",
       "      <td>1.000000</td>\n",
       "      <td>-0.001659</td>\n",
       "      <td>-0.018637</td>\n",
       "      <td>0.392875</td>\n",
       "    </tr>\n",
       "    <tr>\n",
       "      <th>minimum_nights</th>\n",
       "      <td>0.006358</td>\n",
       "      <td>0.011957</td>\n",
       "      <td>0.002670</td>\n",
       "      <td>-0.001659</td>\n",
       "      <td>1.000000</td>\n",
       "      <td>0.003161</td>\n",
       "      <td>0.017297</td>\n",
       "    </tr>\n",
       "    <tr>\n",
       "      <th>maximum_nights</th>\n",
       "      <td>-0.015322</td>\n",
       "      <td>-0.008591</td>\n",
       "      <td>-0.009114</td>\n",
       "      <td>-0.018637</td>\n",
       "      <td>0.003161</td>\n",
       "      <td>1.000000</td>\n",
       "      <td>-0.003336</td>\n",
       "    </tr>\n",
       "    <tr>\n",
       "      <th>price</th>\n",
       "      <td>0.516424</td>\n",
       "      <td>0.627720</td>\n",
       "      <td>0.589525</td>\n",
       "      <td>0.392875</td>\n",
       "      <td>0.017297</td>\n",
       "      <td>-0.003336</td>\n",
       "      <td>1.000000</td>\n",
       "    </tr>\n",
       "  </tbody>\n",
       "</table>\n",
       "</div>"
      ],
      "text/plain": [
       "                 bathrooms  bedrooms      beds  guests_included  \\\n",
       "bathrooms         1.000000  0.610937  0.532838         0.304780   \n",
       "bedrooms          0.610937  1.000000  0.753167         0.457009   \n",
       "beds              0.532838  0.753167  1.000000         0.460512   \n",
       "guests_included   0.304780  0.457009  0.460512         1.000000   \n",
       "minimum_nights    0.006358  0.011957  0.002670        -0.001659   \n",
       "maximum_nights   -0.015322 -0.008591 -0.009114        -0.018637   \n",
       "price             0.516424  0.627720  0.589525         0.392875   \n",
       "\n",
       "                 minimum_nights  maximum_nights     price  \n",
       "bathrooms              0.006358       -0.015322  0.516424  \n",
       "bedrooms               0.011957       -0.008591  0.627720  \n",
       "beds                   0.002670       -0.009114  0.589525  \n",
       "guests_included       -0.001659       -0.018637  0.392875  \n",
       "minimum_nights         1.000000        0.003161  0.017297  \n",
       "maximum_nights         0.003161        1.000000 -0.003336  \n",
       "price                  0.017297       -0.003336  1.000000  "
      ]
     },
     "execution_count": 31,
     "metadata": {},
     "output_type": "execute_result"
    }
   ],
   "source": [
    "###create a dataframe with amenities listed\n",
    "df_amenities=df_listing[['bathrooms', 'bedrooms', 'beds','guests_included',\n",
    "       'minimum_nights', 'maximum_nights','price']]\n",
    "\n",
    "###Correlation matrix\n",
    "corr_amen=df_amenities.corr()\n",
    "corr_amen"
   ]
  },
  {
   "cell_type": "markdown",
   "metadata": {},
   "source": [
    "**Analyzing the data**\n",
    "\n",
    "1. Which listings are charging the highest price?"
   ]
  },
  {
   "cell_type": "code",
   "execution_count": 32,
   "metadata": {},
   "outputs": [
    {
     "data": {
      "text/plain": [
       "Text(0.5, 1.0, 'Top 10 listings charging the highest price')"
      ]
     },
     "execution_count": 32,
     "metadata": {},
     "output_type": "execute_result"
    },
    {
     "data": {
      "image/png": "[encoded data removed]",
      "text/plain": [
       "<Figure size 432x288 with 1 Axes>"
      ]
     },
     "metadata": {
      "needs_background": "light"
     },
     "output_type": "display_data"
    }
   ],
   "source": [
    "###Highest price charged listings\n",
    "mean_price_listing=df_cal.groupby('listing_id')['price'].mean()\n",
    "mean_price_listing.nlargest(10).plot(kind=\"barh\");\n",
    "plt.xlabel('Price charged')\n",
    "plt.axvline(mean_price_listing.nlargest(10).mean(),color='r',linestyle='--')##average price for top 10= $814\n",
    "plt.title(\"Top 10 listings charging the highest price\")"
   ]
  },
  {
   "cell_type": "markdown",
   "metadata": {},
   "source": [
    "2. What is the average price charged per month?"
   ]
  },
  {
   "cell_type": "code",
   "execution_count": 33,
   "metadata": {},
   "outputs": [
    {
     "data": {
      "text/plain": [
       "<matplotlib.legend.Legend at 0x243f25ba6d8>"
      ]
     },
     "execution_count": 33,
     "metadata": {},
     "output_type": "execute_result"
    },
    {
     "data": {
      "image/png": "[encoded data removed]",
      "text/plain": [
       "<Figure size 432x288 with 1 Axes>"
      ]
     },
     "metadata": {
      "needs_background": "light"
     },
     "output_type": "display_data"
    }
   ],
   "source": [
    "###The months with highest price\n",
    "mth_price_listing=df_cal.groupby('Month')['price'].mean()\n",
    "mth_price_listing.plot(kind=\"bar\");\n",
    "plt.xlabel('Month')\n",
    "plt.ylabel('Average Price')\n",
    "plt.title(\"Avg Price charged per month\")\n",
    "plt.axhline(mth_price_listing.mean(),color='g',linestyle='--')##average price for 2016= $92\n",
    "plt.legend()"
   ]
  },
  {
   "cell_type": "markdown",
   "metadata": {},
   "source": [
    "Observation:\n",
    "June and december are the peak price months. These months are the summer and christmas vacation times of the year and the data reflects that during vacation time, the prices tend to peak. While in Q1 2016, price charged was lower than the average for the whole year."
   ]
  },
  {
   "cell_type": "markdown",
   "metadata": {},
   "source": [
    "3. How much time does the host take to respond?"
   ]
  },
  {
   "cell_type": "code",
   "execution_count": 34,
   "metadata": {},
   "outputs": [
    {
     "data": {
      "text/plain": [
       "Text(0.5, 1.0, 'Response Time')"
      ]
     },
     "execution_count": 34,
     "metadata": {},
     "output_type": "execute_result"
    },
    {
     "data": {
      "image/png": "[encoded data removed]",
      "text/plain": [
       "<Figure size 432x288 with 1 Axes>"
      ]
     },
     "metadata": {
      "needs_background": "light"
     },
     "output_type": "display_data"
    }
   ],
   "source": [
    "###Host response time\n",
    "\n",
    "resp_time=df_listing['host_response_time'].value_counts()\n",
    "((resp_time/df_listing.shape[0])*100).plot(kind=\"bar\");\n",
    "plt.xlabel('Host response time')\n",
    "plt.ylabel('% Host population')\n",
    "plt.title(\"Response Time\")"
   ]
  },
  {
   "cell_type": "markdown",
   "metadata": {},
   "source": [
    "Observation:\n",
    "c45% of the hosts respond within an hour"
   ]
  },
  {
   "cell_type": "markdown",
   "metadata": {},
   "source": [
    "4. Which are the popular neighbourhoods?"
   ]
  },
  {
   "cell_type": "code",
   "execution_count": 35,
   "metadata": {},
   "outputs": [
    {
     "data": {
      "image/png": "[encoded data removed]",
      "text/plain": [
       "<Figure size 432x288 with 1 Axes>"
      ]
     },
     "metadata": {
      "needs_background": "light"
     },
     "output_type": "display_data"
    }
   ],
   "source": [
    "###identifying the top 15 popular neighbour hoods\n",
    "loca=df_listing['neighbourhood_cleansed'].value_counts()\n",
    "\n",
    "((loca[0:15]/df_listing.shape[0])*100).plot(kind=\"bar\");\n",
    "plt.ylabel('% Listing population')\n",
    "plt.xlabel('Neighbourhoods')\n",
    "plt.title(\"Top 15 popular neighbourhoods in Seattle\");"
   ]
  },
  {
   "cell_type": "markdown",
   "metadata": {},
   "source": [
    "Observation:\n",
    "20% of the properties are located in Broadway, Belltown and Wallingford."
   ]
  },
  {
   "cell_type": "markdown",
   "metadata": {},
   "source": [
    "5. Which are the most expensive and cheapest neighbourhoods in Seattle?\n",
    "1. Most Expensive neighbourhoods in Seattle"
   ]
  },
  {
   "cell_type": "code",
   "execution_count": 36,
   "metadata": {},
   "outputs": [
    {
     "data": {
      "image/png": "[encoded data removed]",
      "text/plain": [
       "<Figure size 432x288 with 1 Axes>"
      ]
     },
     "metadata": {
      "needs_background": "light"
     },
     "output_type": "display_data"
    }
   ],
   "source": [
    "###10 most expensive neighbourhoods\n",
    "top10_n = df_listing.groupby(['neighbourhood_cleansed'])[['price']].mean().sort_values(\"price\",ascending=False).head(10)\n",
    "top10_n.plot(kind=\"bar\")\n",
    "plt.ylabel('% Listing population')\n",
    "plt.xlabel('Neighbourhoods')\n",
    "\n",
    "plt.title(\"Top 10 most expensive neighbourhoods in Seattle\");"
   ]
  },
  {
   "cell_type": "markdown",
   "metadata": {},
   "source": [
    "2. Cheapest neighbourhoods in Seattle"
   ]
  },
  {
   "cell_type": "code",
   "execution_count": 37,
   "metadata": {},
   "outputs": [
    {
     "data": {
      "image/png": "[encoded data removed]",
      "text/plain": [
       "<Figure size 432x288 with 1 Axes>"
      ]
     },
     "metadata": {
      "needs_background": "light"
     },
     "output_type": "display_data"
    }
   ],
   "source": [
    "###10 least expensive neighbourhoods\n",
    "bottom10_n = df_listing.groupby(['neighbourhood_cleansed'])[['price']].mean().sort_values(\"price\",ascending=True).head(10)\n",
    "bottom10_n.plot(kind=\"bar\")\n",
    "plt.ylabel('% Listing population')\n",
    "plt.xlabel('Neighbourhoods')\n",
    "plt.title(\" 10 Lowest priced neighbourhoods in Seattle\");"
   ]
  },
  {
   "cell_type": "markdown",
   "metadata": {},
   "source": [
    "6. What review ratings affect the customer or price?"
   ]
  },
  {
   "cell_type": "code",
   "execution_count": 38,
   "metadata": {},
   "outputs": [
    {
     "data": {
      "image/png": "[encoded data removed]",
      "text/plain": [
       "<Figure size 432x288 with 2 Axes>"
      ]
     },
     "metadata": {
      "needs_background": "light"
     },
     "output_type": "display_data"
    }
   ],
   "source": [
    "def correlation_matrix(df_reviews):\n",
    "    from matplotlib import pyplot as plt\n",
    "    from matplotlib import cm as cm\n",
    "    \"\"\"\n",
    "    Plotting a confusion matrix for each pair of columns in the created dataframe- df_reviews(plot 1) & df_amenities(plot 2)\n",
    "    \n",
    "    input:  \n",
    "    df: created Pandas dataframe>> df_reviews for Plot 1 and df_amenities for Plot 2\n",
    "     \n",
    "    output: \n",
    "    matrix that shows the correlation between the variables in each dataframe. blue to grey to red>> shows low to high correlation\n",
    "    A dark red line runs from top left to bottom right- shows the correlation of the variable with itself.\n",
    "    \"\"\"\n",
    "\n",
    "\n",
    "\n",
    "    corr=df_reviews.corr()\n",
    "    fig=plt.figure()\n",
    "    ax=fig.add_subplot(111)\n",
    "    cax = ax.matshow(corr,cmap='coolwarm', vmin=-1, vmax=1)\n",
    "    fig.colorbar(cax)\n",
    "    ticks = np.arange(0,len(df_reviews.columns),1)\n",
    "    ax.set_xticks(ticks)\n",
    "    plt.xticks(rotation=90)\n",
    "    ax.set_yticks(ticks)\n",
    "    ax.set_xticklabels(df_reviews.columns)\n",
    "    ax.set_yticklabels(df_reviews.columns)\n",
    "    plt.show()\n",
    "##creating a confusion matrix for review ratings\n",
    "correlation_matrix(df_reviews)"
   ]
  },
  {
   "cell_type": "markdown",
   "metadata": {},
   "source": [
    "Observation:\n",
    "Ratings: Cleanliness has the highest correlation with over all ratings, thus cleanliness is rather important for a good rating. Along with that, good interaction (or communication) with the customer is highly correlated with the check in rating.\n",
    "\n",
    "Ratings and price: Ratings have little impact on the price charged by the host. Review ratings and location does have a low positive correlation with price (approx. 5% and 7%)."
   ]
  },
  {
   "cell_type": "markdown",
   "metadata": {},
   "source": [
    "7. Does availability of certain amenities fetch a higher price?"
   ]
  },
  {
   "cell_type": "code",
   "execution_count": 39,
   "metadata": {},
   "outputs": [
    {
     "data": {
      "image/png": "[encoded data removed]",
      "text/plain": [
       "<Figure size 432x288 with 2 Axes>"
      ]
     },
     "metadata": {
      "needs_background": "light"
     },
     "output_type": "display_data"
    }
   ],
   "source": [
    "###create a confusion matrix for amenities\n",
    "correlation_matrix(corr_amen)"
   ]
  },
  {
   "cell_type": "markdown",
   "metadata": {},
   "source": [
    "Observation:\n",
    "Amenities and Price: Beds, bedrooms and bathrooms offered by the host tend to affect price positively. Minimum and maximum nights offered do not affect price as such."
   ]
  }
 ],
 "metadata": {
  "kernelspec": {
   "display_name": "Python 3",
   "language": "python",
   "name": "python3"
  },
  "language_info": {
   "codemirror_mode": {
    "name": "ipython",
    "version": 3
   },
   "file_extension": ".py",
   "mimetype": "text/x-python",
   "name": "python",
   "nbconvert_exporter": "python",
   "pygments_lexer": "ipython3",
   "version": "3.7.1"
  }
 },
 "nbformat": 4,
 "nbformat_minor": 2
}
